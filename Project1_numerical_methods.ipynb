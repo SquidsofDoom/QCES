{
  "cells": [
    {
      "cell_type": "markdown",
      "metadata": {
        "id": "Kvi1witj5wON"
      },
      "source": [
        "<a href=\"https://colab.research.google.com/github/SquidsofDoom/QCES/blob/main/Project1_numerical_methods.ipynb\" target=\"_parent\"><img src=\"https://colab.research.google.com/assets/colab-badge.svg\" alt=\"Open In Colab\"/></a>"
      ]
    },
    {
      "cell_type": "markdown",
      "metadata": {
        "id": "lMhM6NoD5wOP"
      },
      "source": [
        "# Project 1: Heat transport"
      ]
    },
    {
      "cell_type": "markdown",
      "metadata": {
        "id": "_pgh031M5wOP"
      },
      "source": [
        "In this project we will discretize and timestep two systems that describe heat transport. In the first part we will timestep a box model for the Earth's surface temperature with heat buffering provided by the deep ocean. In the second part, we will timestep the one-dimensional diffusion equation which can be used to describe heat moving through a medium (e.g. the ground or still air and water).\n",
        "\n",
        "Through this project, we will learn how to efficiently timestep ordinary and partial differential equations and examine errors introduced by the numerical discretization. We will also have the chance to explore the timescales and physical processes involved in heat transport in the climate system."
      ]
    },
    {
      "cell_type": "markdown",
      "metadata": {
        "id": "mhshvEB4IAZE"
      },
      "source": [
        "## 1. Climate box model"
      ]
    },
    {
      "cell_type": "markdown",
      "metadata": {
        "id": "lxhhPMHNIAZE"
      },
      "source": [
        "In this part of the project we will timestep the following box model.\n",
        "\n",
        "$$ C_s \\partial_t T = F(t) - \\gamma(T-\\theta) $$\n",
        "\n",
        "$$ C_d \\partial_t \\theta = \\gamma (T-\\theta) $$\n",
        "\n",
        "Here, $T(t)$ represents the global mean surface temperature as a function of time and $\\theta(t)$ is the temperature of the deep ocean, both expressed as the difference between the temperature and a pre-industrial equilibrium in units of $^\\circ K$. The net surface heat flux, $F(t)$, drives departures from the pre-industrial temperatures. The heat flux between the surface and deep ocean is assumed to be proportional to the difference between the surface and deep ocean temperatures. The constants are the heat capacity of the surface of the Earth, $C_s$, the heat capacity of the deep ocean, $C_d$, and the heat flux coefficient, $\\gamma$, all given in units of $W/^\\circ K/m^2$. Note that $C_s$ and $C_d$ (as defined in Nicklas et al. 2025) are heat capacities per year; i.e. $1/C_s$ tells us how much the surface temperature would increase if a flux of 1 $W/m^2$ were applied for one year.\n",
        "\n",
        "This model is inspired by a more complicated version of a two box climate model in the paper referenced below. (Interested students might consider adding some additional features from their model, but this is not required for this project).\n",
        "\n",
        "*Nicklas, J.M., Fox-Kemper, B. and Lawrence, C., 2025. Efficient Estimation of Climate State and Its Uncertainty Using Kalman Filtering with Application to Policy Thresholds and Volcanism. Journal of Climate, 38(5), pp.1235-1270.*\n",
        "\n",
        "Below, we start to build code to solve these equations. Execute the code cells below.  In some cases you will be asked to add code.\n",
        "\n",
        "Student tasks are in [Section 1.1](#section1pt1), [Section 1.2](#section1pt2), and [Section 1.3](#section1pt3)."
      ]
    },
    {
      "cell_type": "code",
      "execution_count": null,
      "metadata": {
        "id": "bQJdpTTE5wOQ"
      },
      "outputs": [],
      "source": [
        "# Before we start, import necessary libraries. Run this cell first.\n",
        "import numpy as np\n",
        "import matplotlib.pyplot as plt\n",
        "import scipy.sparse as sp\n",
        "import scipy.sparse.linalg as spla\n",
        "import time"
      ]
    },
    {
      "cell_type": "markdown",
      "metadata": {
        "id": "SykdaBKGIAZF"
      },
      "source": [
        "Now, let's define values for the various constants. These values are taken from Nicklas et al., 2025."
      ]
    },
    {
      "cell_type": "code",
      "execution_count": null,
      "metadata": {
        "id": "vchcQTM_IAZF"
      },
      "outputs": [],
      "source": [
        "C_s = 17 # heat capacity of the Earth's surface (W/m^2/K)\n",
        "C_d = 156 # heat capacity of the deep ocean (W/m^2/K)\n",
        "gamma = 0.67 # heat exchange coefficient between surface and deep ocean (W/m^2/K)"
      ]
    },
    {
      "cell_type": "markdown",
      "metadata": {
        "id": "mO8EDNkeIAZF"
      },
      "source": [
        "Now, let's define a function for F(t), the net surface heat flux (in units of $W/m^2$) that will force our model. This function is here to represent the heat imbalance caused by antropogenic greenhouse gases in the atmosphere. When $F=0$, there is no net surface heat flux. The argument, $t$, is the time in years. We will let $t=0$ denote the start of our additional warming, and we set $F=1$ if $t<200$ years and $F=0$ if $t>200$ years. This corresponds to a very bad-case emissions scenario with an abrupt drop in emissions after 200 years."
      ]
    },
    {
      "cell_type": "code",
      "execution_count": null,
      "metadata": {
        "id": "VAucRUG3IAZG"
      },
      "outputs": [],
      "source": [
        "def F(t):\n",
        "    return 1 if t < 200 else 0"
      ]
    },
    {
      "cell_type": "markdown",
      "metadata": {
        "id": "goQRjdFFIAZG"
      },
      "source": [
        "Next, set the initial conditions. We will use arrays `T` and `theta`. `T[i]` represents the ith value in the array. We will use `T[0]` and `theta[0]` to hold the initial conditions. Subsequent values, `T[2]`, `T[3]`, etc. will be determined by timestepping the equations. We start by initializing the arrays using numpy and filling them with zeros and then set the initial values (this isn't necessary here since our values are zero anyway, but the code is here to that you can change the initial conditions easily)"
      ]
    },
    {
      "cell_type": "code",
      "execution_count": null,
      "metadata": {
        "id": "TnHQFFZRIAZG"
      },
      "outputs": [],
      "source": [
        "Nt = 500 # number of time steps (including the starting point)\n",
        "T = np.zeros(Nt) # surface temperature array\n",
        "theta = np.zeros(Nt) # deep ocean temperature array\n",
        "T[0] = 0 # initial surface temperature anomaly (ºK)\n",
        "theta[0] = 0 # initial deep ocean temperature anomaly (ºK)"
      ]
    },
    {
      "cell_type": "markdown",
      "metadata": {
        "id": "pVqxeTTjIAZG"
      },
      "source": [
        "Now, create an array with the time (in years) corresponding to each time index. Also, calculate the timestep, `dt`."
      ]
    },
    {
      "cell_type": "code",
      "execution_count": null,
      "metadata": {
        "id": "khU5EYmwIAZG"
      },
      "outputs": [],
      "source": [
        "t = np.linspace(0, 500, Nt) # time in years.  This starts at 0 and ends at 500, with Nt total points\n",
        "dt = t[1] - t[0] # timestep in years"
      ]
    },
    {
      "cell_type": "markdown",
      "metadata": {
        "id": "UKEa_-QtIAZG"
      },
      "source": [
        "Finally, we are ready to create a for loop to timestep the equations listed at the top of the section."
      ]
    },
    {
      "cell_type": "markdown",
      "metadata": {
        "id": "f5V44VwOIAZG"
      },
      "source": [
        "### 1.1 Student task:\n",
        "<a id='section1pt1'></a>\n",
        "Fill in the interior of the for loop to timestep the equations from the start of Section 1 using the Explicit Euler method."
      ]
    },
    {
      "cell_type": "code",
      "execution_count": null,
      "metadata": {
        "id": "fMIEyyiBIAZG"
      },
      "outputs": [],
      "source": [
        "for i in range(0, Nt-1):\n",
        "    T[i+1] = T[i] + dt *(F(t[i])-gamma*(T[i]-theta[i]))/(C_s)\n",
        "    theta[i+1] = theta[i] + dt * (gamma*(T[i]-theta[i])/(C_d))"
      ]
    },
    {
      "cell_type": "markdown",
      "metadata": {
        "id": "nRTNIVprIAZG"
      },
      "source": [
        "After you are finished, run the cell below to plot the results"
      ]
    },
    {
      "cell_type": "code",
      "execution_count": null,
      "metadata": {
        "id": "dUfDCUGNIAZG"
      },
      "outputs": [],
      "source": [
        "plt.plot(t,T,'r-')\n",
        "plt.plot(t,theta,'b-')\n",
        "plt.legend(['Surface temperature','Deep ocean temperature'])\n",
        "plt.xlabel('Time (years)')\n",
        "plt.ylabel('Temperature anomaly (ºK)')\n",
        "plt.show()"
      ]
    },
    {
      "cell_type": "markdown",
      "metadata": {
        "id": "JE7Zj8OLIAZG"
      },
      "source": [
        "### 1.2 Student task\n",
        "<a id='section1pt2'></a>\n",
        "Discuss the rates of change the temperature of the Earth's surface and the deep ocean at the start of the model run.  Can you explain the response of $T$ and $\\theta$ to the forcing by defining characteristic timescales from the box model equations?"
      ]
    },
    {
      "cell_type": "markdown",
      "metadata": {
        "id": "Lni6Vs5SIAZG"
      },
      "source": [
        "In the region where forcing is active ($t<200$), we see that the surface temperature anomaly $T$ grows much faster than the deep ocean anomaly, $\\theta$. Analysis from units shows that surface anomaly time is characteristic in $t_s \\sim C_s/\\gamma \\approxeq 25.4$ years. We see a much more sluggish response time in the deep-ocean layers, where $t_d \\sim C_d/\\gamma \\approxeq 232.8$ years. This explains why $T$ grows exponentially (as if uncoupled) in the first half-century, until $\\theta$ can 'catch up' and make any contribution via the differential equations.\n",
        "\n",
        "It is interesting to note that $T$ and $\\theta$ grow linearly at the same rate in the range $100<t<200$, a trend which holds even when $t_{cutoff}$ is increased. We can see why if we subtract the differential equations from one another:\n",
        "\n",
        "\n",
        "$$\\alpha(t) = \\frac{C_d}{\\gamma (C_d - C_s)}[1-e^{-\\gamma (\\frac{C_d - C_s}{C_d C_s})t}]$$\n",
        "\n",
        "\n",
        "For $\\alpha(t) = T(t) - \\theta (t)$. For $C_d >> C_s$, we find that we can relate the rates of change by\n",
        "\n",
        "\n",
        "$$\\frac{dT}{dt} = \\frac{d\\theta}{dt} + 0.058 e^{\\frac{-\\gamma}{C_s}t} \\approxeq \\frac{d\\theta}{dt}$$\n",
        "\n",
        "\n",
        "Given that both functions have a similar rate of change, but are both exponentials with different typical times, they must be both interact to become linear. We interpret that the response time of $T$ is quick enough to 'adapt' itself to the value of $\\theta$ to cause them to grow at the same rate.\n",
        "We see this again at $t>200$. Here, the forcing is removed and the system finds equilibrium. In the time it takes for $T$ to establish equilibrium, $\\theta$ has barely moved, and so $T$ drops down to 'meet' $\\theta$ at its most recent value. So $T_{eq} = \\theta_{eq} \\approxeq \\theta(t=200)$. We expect to see this dynamic wherever there is a great difference in characteristic timescales."
      ]
    },
    {
      "cell_type": "markdown",
      "metadata": {
        "id": "H8j8BpElIAZG"
      },
      "source": [
        "### 1.3 Student task\n",
        "<a id='section1pt3'></a>\n",
        "Modify the forcing function, `F(t)` above with 2-3 scenarios of your choice. Plot the temperature response for each scenario and briefly (2-3 sentences each) describe the temperature responses in each scenario. You will need to replicate some of the code blocks above so that you can produce a new set of plots below."
      ]
    },
    {
      "cell_type": "code",
      "execution_count": null,
      "metadata": {
        "id": "sF5idZkgIAZG"
      },
      "outputs": [],
      "source": [
        "ax, fig = plt.subplots(3,1, figsize = (9,15))\n",
        "\n",
        "def F1(t):\n",
        "    return 1-0.005*t if t < 200 else 0\n",
        "\n",
        "for i in range(0, Nt-1):\n",
        "    T[i+1] = T[i] + dt *(F1(t[i])-gamma*(T[i]-theta[i]))/(C_s)\n",
        "    theta[i+1] = theta[i] + dt * (gamma*(T[i]-theta[i])/(C_d))\n",
        "ax1 = plt.subplot(3,1,1)\n",
        "ax1.plot(t,T,'r-')\n",
        "ax1.plot(t,theta,'b-')\n",
        "ax1.legend(['Surface temperature','Deep ocean temperature'])\n",
        "ax1.set_xlabel('Time (years)')\n",
        "ax1.set_ylabel('Temperature anomaly (ºK)')\n",
        "ax1.set_title('Slowing Emissions Scenario')\n",
        "\n",
        "\n",
        "def F2(t):\n",
        "    return 1 if t < 100 else 0\n",
        "\n",
        "for i in range(0, Nt-1):\n",
        "    T[i+1] = T[i] + dt *(F2(t[i])-gamma*(T[i]-theta[i]))/(C_s)\n",
        "    theta[i+1] = theta[i] + dt * (gamma*(T[i]-theta[i])/(C_d))\n",
        "\n",
        "ax2 = plt.subplot(3,1,2)\n",
        "ax2.plot(t,T,'r-')\n",
        "ax2.plot(t,theta,'b-')\n",
        "ax2.legend(['Surface temperature','Deep ocean temperature'])\n",
        "ax2.set_xlabel('Time (years)')\n",
        "ax2.set_ylabel('Temperature anomaly (ºK)')\n",
        "ax2.set_title('Shorter Cut-Off Time')\n",
        "\n",
        "\n",
        "def F3(t):\n",
        "    return 1 if t < 150 else 0 if 151<t<200 else -0.5\n",
        "\n",
        "for i in range(0, Nt-1):\n",
        "    T[i+1] = T[i] + dt *(F3(t[i])-gamma*(T[i]-theta[i]))/(C_s)\n",
        "    theta[i+1] = theta[i] + dt * (gamma*(T[i]-theta[i])/(C_d))\n",
        "\n",
        "ax3 = plt.subplot(3,1,3)\n",
        "ax3.plot(t,T,'r-')\n",
        "ax3.plot(t,theta,'b-')\n",
        "ax3.legend(['Surface temperature','Deep ocean temperature'])\n",
        "ax3.set_xlabel('Time (years)')\n",
        "ax3.set_ylabel('Temperature anomaly (ºK)')\n",
        "ax3.set_title('Reduction Followed by Extraction Scenario')\n",
        "\n",
        "plt.show()\n",
        "\n"
      ]
    },
    {
      "cell_type": "markdown",
      "metadata": {
        "id": "kNX1pbzrIAZH"
      },
      "source": [
        "In the first case, we see that the curve has smoothed, however still holds similar mechanics to the first case in graph 1.2. The smoother peak is a result of the fact that carbon is continually being pulled out of the atmosphere, so there is not as much of an abrupt stop and drop to equilibrium. We also see that the peak anomoly value for $T$ and the final equilibrium value is lower, as less carbon has been put into the atmosphere over the same 200 year time-frame.\n",
        "\n",
        "The second scenario, where the emissions-cuttof year has been brought back to 100 years from now, shows effectively the same dynamics over the 1st century as graph in 1.2. We see less of a linear portion in $T$ and $\\theta$, as the cutoff point is reached earlier. Again, we have a lower equilibrium value than both the first of these scenarios and 1.2, and equilibrium is established around $\\theta(t=100)$.\n",
        "\n",
        "The final scenario represents a sharp cut-off of emissions, followed by some extraction of $CO_2$ from the atmosphere. This corresponds to a negative forcing term, and we see that once this term kicks in there is a negative trend in both temperature anomalies. The downward trend begins while the system was establishing equilibrium, and both begin to demonstrate their linear behaviour right away. This may be because $\\theta$ and $T$ are at similar orders at this time, so they are strongly coupled by the differential equations (compare the first 50 years of graph 1.2, where they grow almost independently).  "
      ]
    },
    {
      "cell_type": "markdown",
      "metadata": {
        "id": "SlqTFw5QIAZH"
      },
      "source": [
        "## 2. Diffusion equation"
      ]
    },
    {
      "cell_type": "markdown",
      "metadata": {
        "id": "_h1vPnHPIAZH"
      },
      "source": [
        "In this part of the project we will solve the 1-D diffusion equation:\n",
        "\n",
        "$$ \\partial_t c = \\kappa \\partial_x^2 c $$\n",
        "\n",
        "We will use second order finite differences to approximate the $x$-derivatives, and we will implement and compare two timestepping methods.\n",
        "\n",
        "Student tasks are in [Section 2.1](#section2pt1), [Section 2.2](#section2pt2), and [Section 2.3](#section2pt3)."
      ]
    },
    {
      "cell_type": "markdown",
      "metadata": {
        "id": "sbfMP73NIAZH"
      },
      "source": [
        "First, let's discretize the second order derivative using finite differences. The function below builds a coefficient matrix, $M$, so that $Mc$ is a discretized version of $\\partial^2_x c$, where in our discretized version $c$ is a column vector."
      ]
    },
    {
      "cell_type": "code",
      "execution_count": null,
      "metadata": {
        "id": "pyB17MtfIAZH"
      },
      "outputs": [],
      "source": [
        "    def construct_M(x):\n",
        "    # Build a coefficient matrix, such that M*c is the discrete version of d^2/dx^2(c)\n",
        "        dx = x[1] - x[0]  # Infer the uniform grid spacing\n",
        "        M = (np.diag(np.ones(Nx-1), -1) - 2*np.diag(np.ones(Nx), 0) + np.diag(np.ones(Nx-1), 1)) / dx**2\n",
        "        M = sp.csr_matrix(M) # Turn M into a sparse matrix to save memory and improve speed\n",
        "        return M"
      ]
    },
    {
      "cell_type": "markdown",
      "metadata": {
        "id": "Tquy_Mqe5wOR"
      },
      "source": [
        "Now, define two functions to timestep the diffusion equation. The code below timesteps the diffusion equation using the expicit Euler method. The function takes in a vector of discrete positions, `x`, discrete times, `t`, and the diffusivity, `kappa`. The vectors `x` and `t` dictate the discretization of the problem in space and time, and the grid spacing must be constant in space and time. The boundary conditions are $\\partial_x c=0$ at the starting and ending points in `x`."
      ]
    },
    {
      "cell_type": "code",
      "execution_count": null,
      "metadata": {
        "id": "0-9DGnW65wOR"
      },
      "outputs": [],
      "source": [
        "def EE(x, t, kappa):\n",
        "# This function timesteps the diffusion equation with homogeneous Neumann boundary conditions\n",
        "# using the explicit Euler and second order finite difference methods\n",
        "\n",
        "    start_time = time.time()  # Start a timer\n",
        "\n",
        "    # Infer the timestep from the time array\n",
        "    dt = t[1] - t[0]\n",
        "\n",
        "    M = construct_M(x)  # Construct the coefficient matrix for the second derivative\n",
        "\n",
        "    # Set the number of gridpoints in x and t\n",
        "    Nx = len(x); Nt = len(t)\n",
        "\n",
        "    # Create an empty sparse array to store the solution\n",
        "    c = np.zeros((Nx, Nt))\n",
        "\n",
        "    c[:, 0] = set_ics(x, kappa, 10)  # Set the initial condition\n",
        "\n",
        "    for k in range(1, Nt):  # loop over the number of timesteps\n",
        "      c[:,k] = c[:,k-1] + dt * kappa * M @ c[:,k-1]\n",
        "      # Enforce the boundary conditions (no flux)\n",
        "      c[0, k] = c[1, k]\n",
        "      c[-1, k] = c[-2, k]\n",
        "\n",
        "    end_time = time.time()  # Print the elapsed time\n",
        "\n",
        "    #print(f\"Explicit Euler method took {end_time - start_time:.2f} seconds\")\n",
        "\n",
        "    return c"
      ]
    },
    {
      "cell_type": "markdown",
      "metadata": {
        "id": "OX6RUI8J5wOR"
      },
      "source": [
        "Similarly, the function below timesteps the diffusion equation with the Crank-Nicolson method"
      ]
    },
    {
      "cell_type": "code",
      "execution_count": null,
      "metadata": {
        "id": "KRXOP_KR5wOR"
      },
      "outputs": [],
      "source": [
        "def CN(x, t, kappa):\n",
        "# This function timesteps the diffusion equation with homogeneous Neumann boundary conditions\n",
        "# using the explicit Euler and second order finite difference methods\n",
        "    start_time = time.time()  # Start a timer\n",
        "\n",
        "    # Infer the timestep from the time array\n",
        "    dt = t[1] - t[0]\n",
        "\n",
        "    M = construct_M(x)  # Construct the coefficient matrix for the second derivative\n",
        "\n",
        "    # Set the number of gridpoints in x and t\n",
        "    Nx = len(x); Nt = len(t)\n",
        "\n",
        "    A = sp.eye(Nx) - 0.5 * dt * kappa * M  # This matrix appears on the LHS in the C-N scheme\n",
        "    A_inv = spla.inv(A) # Calculate the inverse of A (this only needs to be done once)\n",
        "\n",
        "    # Create an empty sparse array to store the solution\n",
        "    c = np.zeros((Nx, Nt))\n",
        "\n",
        "    c[:, 0] = set_ics(x, kappa, 10)  # Set the initial condition\n",
        "\n",
        "    for k in range(1, Nt): # loop over the number of timesteps\n",
        "        c[:, k] = A_inv @ (c[:, k-1] + 0.5 * dt * kappa * (M @ c[:, k-1]))\n",
        "        # Enforce the boundary conditions\n",
        "        c[0, k] = c[1, k]\n",
        "        c[-1, k] = c[-2, k]\n",
        "\n",
        "    end_time = time.time()  # Print the elapsed time\n",
        "\n",
        "    #print(f\"Crank-Nicolson method took {end_time - start_time:.2f} seconds\")\n",
        "    return c"
      ]
    },
    {
      "cell_type": "markdown",
      "metadata": {
        "id": "CFtuEsYm5wOR"
      },
      "source": [
        "Next, create a function to set the initial conditions. The exact solution to the unbounded diffusion equation with a delta function initial condition is:\n",
        "\n",
        "$$\\left(\\frac{1}{4\\pi\\kappa t}\\right)^{1/2}e^{-x^2/(4\\kappa t)}$$\n",
        "\n",
        "The function below sets the initial condition by evaluating the exact solution at a given time. Note that it is important that we don't evaluate the exact solution at `t_ic=0` since this will return a delta function which will be undefined on our finite grid. The value of `t_ic` is set within the `EE` and `CN` functions."
      ]
    },
    {
      "cell_type": "code",
      "execution_count": null,
      "metadata": {
        "id": "Z7eqXuoY5wOR"
      },
      "outputs": [],
      "source": [
        "# Function to set the initial condition from the exact solution at time t_start\n",
        "def set_ics(x, kappa, t_ic):\n",
        "    c_ic = (4*np.pi*kappa*t_ic)**(-0.5)*np.exp(-x**2 / (4*kappa*t_ic))\n",
        "    # Enforce the boundary conditions\n",
        "    c_ic[0] = c_ic[1]\n",
        "    c_ic[-1] = c_ic[-2]\n",
        "    return c_ic\n"
      ]
    },
    {
      "cell_type": "markdown",
      "metadata": {
        "id": "4xs_Yhdb5wOS"
      },
      "source": [
        "Finally, define some parameters and the x and t vectors:"
      ]
    },
    {
      "cell_type": "code",
      "execution_count": null,
      "metadata": {
        "id": "mHatFZjk5wOS"
      },
      "outputs": [],
      "source": [
        "# Defining parameters\n",
        "kappa = 0.001  # diffusivity\n",
        "\n",
        "# Timestepping parameters\n",
        "t_start = 0  # start time (note that this is not the same time used to evaluate the exact solution to set the ICs)\n",
        "t_end = 10  # end time\n",
        "Nt = 1000  # number of timesteps\n",
        "\n",
        "# Size of the physical domain\n",
        "x_start = -1\n",
        "x_end = 1\n",
        "Nx = 100\n",
        "\n",
        "t = np.linspace(t_start, t_end, Nt)  # Create a vector of times\n",
        "x = np.linspace(x_start, x_end, Nx)  # Create a vector for x"
      ]
    },
    {
      "cell_type": "markdown",
      "metadata": {
        "id": "nate3yVV5wOS"
      },
      "source": [
        "Run each method once:"
      ]
    },
    {
      "cell_type": "code",
      "execution_count": null,
      "metadata": {
        "id": "UmccFq585wOS"
      },
      "outputs": [],
      "source": [
        "# Run the simulations\n",
        "c_EE = EE(x, t, kappa) # explicit Euler\n",
        "c_CN = CN(x, t, kappa) # Crank-Nicolson"
      ]
    },
    {
      "cell_type": "markdown",
      "metadata": {
        "id": "gh_SpkMY5wOS"
      },
      "source": [
        "and finally, plot the results side-by-side"
      ]
    },
    {
      "cell_type": "code",
      "execution_count": null,
      "metadata": {
        "id": "A2bPKtdH5wOS"
      },
      "outputs": [],
      "source": [
        "# Plot the results\n",
        "plt.figure(figsize=(14, 6))\n",
        "\n",
        "plt.subplot(1, 2, 1)\n",
        "plt.pcolormesh(x, t, c_EE.T, shading='auto')\n",
        "plt.xlabel('x')\n",
        "plt.ylabel('t')\n",
        "plt.title('Explicit Euler')\n",
        "\n",
        "plt.subplot(1, 2, 2)\n",
        "plt.pcolormesh(x, t, c_CN.T, shading='auto')\n",
        "plt.xlabel('x')\n",
        "plt.ylabel('t')\n",
        "plt.title('Crank-Nicolson')\n",
        "\n",
        "plt.tight_layout()\n",
        "plt.show()"
      ]
    },
    {
      "cell_type": "markdown",
      "metadata": {
        "id": "ttgIGnFH5wOT"
      },
      "source": [
        "## 2. Student investigation"
      ]
    },
    {
      "cell_type": "markdown",
      "metadata": {
        "id": "YTcN74Wy5wOT"
      },
      "source": [
        "### 2.1 Stability\n",
        "<a id='section2pt1'></a>\n",
        "The explicit Euler and Crank-Nicolson methods have different stability properties. To explore this, try increasing the diffusivity, $\\kappa$, and see how each method responds. Discuss your findings below (~2-3 sentences)."
      ]
    },
    {
      "cell_type": "markdown",
      "metadata": {
        "id": "PRYwUBJx5wOT"
      },
      "source": [
        "The Explicit Euler (EE) method becomes unstable sharply at $\\kappa = 0.021$, while the Crank-Nicolson (CN) method stays stable for much larger values of $\\kappa$ (***HOW MUCH??***). EE is expected to be more unstable, as it only considers the term before it (ie explicit), meaning it is susceptible to growing to infinity. CN does not have this property, as it it considers the value after the time step as well. Interestingly, the instability occurs at exactly the value of $\\kappa = dx$. This could be because, here the diffusion is occuring at a larger rate than the grid-spacing can resolve, so there is a runaway effect."
      ]
    },
    {
      "cell_type": "markdown",
      "metadata": {
        "id": "iLIfQc-C5wOT"
      },
      "source": [
        "### 2.2 Accuracy\n",
        "<a id='section2pt2'></a>\n",
        "Next, we will examine the accuracy of the numerical methods used above. In order to do this, it is useful to compare our numerical solutions with the exact solution to the diffusion equation. Below, write code to plot the exact solution and the numerical solution using explicit Euler and Crank-Nicolson at the final time ($t=10$). Note that you can use the exact solution to the diffusion equation in an unbounded domain in $x$ and keep in mind that the exact solution and numerical solutions will differ for later times when boundary effects are felt."
      ]
    },
    {
      "cell_type": "code",
      "execution_count": 17,
      "metadata": {
        "id": "mCLwo0ky5wOT",
        "colab": {
          "base_uri": "https://localhost:8080/",
          "height": 487
        },
        "outputId": "3f9eba9b-1ff4-4a5d-c862-ed647caf2fcb"
      },
      "outputs": [
        {
          "output_type": "display_data",
          "data": {
            "text/plain": [
              "<Figure size 1000x500 with 1 Axes>"
            ],
            "image/png": "[encoded data removed]"
          },
          "metadata": {}
        }
      ],
      "source": [
        "kappa = 0.01\n",
        "\n",
        "\n",
        "c_EE = EE(x, t, kappa)\n",
        "c_CN = CN(x, t, kappa)\n",
        "\n",
        "plt.figure(figsize=(10, 5))\n",
        "plt.plot(x, set_ics(x, kappa, 10), label='Exact Solution')\n",
        "plt.plot(x, c_EE[:,-1], label='Explicit Euler')\n",
        "plt.plot(x, c_CN[:,-1], label='Crank-Nicolson')\n",
        "plt.legend()\n",
        "\n",
        "plt.xlabel(r'$x$')\n",
        "plt.ylabel(r'$c$')\n",
        "plt.title(r'Solutions at $t=10$')\n",
        "\n",
        "plt.show()"
      ]
    },
    {
      "cell_type": "markdown",
      "metadata": {
        "id": "Tr9KX8-O5wOT"
      },
      "source": [
        "The difference between the exact solution and the numerical approximation can be quantified by various measures of error. The *local error* is the difference between the exact solution and the numerical approximation after one timestep. The *global error* is the difference between the solutions after a fixed amount of time (which includes the accumulation of multiple steps of local error). A method is first order accurate if the global error is linearly proportional to the timestep. A method is second order accurate if the global error varies quadratically with the timestep. Below, calculate and plot the global error for the Explicit Euler and Crank-Nicolson methods and use your results to infer the order of accuracy of each scheme."
      ]
    },
    {
      "cell_type": "markdown",
      "metadata": {
        "id": "guaq3Hds5wOT"
      },
      "source": [
        "PLOT GLOBAL ERROR FOR EACH SCHEME (1-2 figures) AND DISCUSS ORDER OF ACCURACY (2-3 sentences)"
      ]
    },
    {
      "cell_type": "code",
      "source": [
        "'''def construct_M(x):\n",
        "    # Build a coefficient matrix, such that M*c is the discrete version of d^2/dx^2(c)\n",
        "        dx = x[1] - x[0]  # Infer the uniform grid spacing\n",
        "        M = (np.diag(np.ones(Nx-1), -1) - 2*np.diag(np.ones(Nx), 0) + np.diag(np.ones(Nx-1), 1)) / dx**2\n",
        "        M = sp.csr_matrix(M) # Turn M into a sparse matrix to save memory and improve speed\n",
        "        M[0,1] = 2.0\n",
        "        M[-1,-2] = 2.0\n",
        "        return M\n",
        "kappa = 0.001\n",
        "\n",
        "\n",
        "c_EE = EE(x, t, kappa)\n",
        "c_CN = CN(x, t, kappa)\n",
        "\n",
        "plt.figure(figsize=(8, 5))\n",
        "plt.plot(x, set_ics(x, kappa, 10), label='Exact Solution')\n",
        "plt.plot(x, c_EE[:,-1], label='Explicit Euler')\n",
        "plt.plot(x, c_CN[:,-1], label='Crank-Nicolson')\n",
        "plt.legend()\n",
        "\n",
        "plt.xlabel(r'$x$')\n",
        "plt.ylabel(r'$c$')\n",
        "plt.title(r'Difference from Exact Solution at $t=10$')\n",
        "\n",
        "plt.show()'''"
      ],
      "metadata": {
        "colab": {
          "base_uri": "https://localhost:8080/",
          "height": 125
        },
        "id": "JFAjVoVPefFV",
        "outputId": "51ecff6a-ac66-486c-a494-6d178bb9fe30"
      },
      "execution_count": 18,
      "outputs": [
        {
          "output_type": "execute_result",
          "data": {
            "text/plain": [
              "\"def construct_M(x):\\n    # Build a coefficient matrix, such that M*c is the discrete version of d^2/dx^2(c)\\n        dx = x[1] - x[0]  # Infer the uniform grid spacing\\n        M = (np.diag(np.ones(Nx-1), -1) - 2*np.diag(np.ones(Nx), 0) + np.diag(np.ones(Nx-1), 1)) / dx**2\\n        M = sp.csr_matrix(M) # Turn M into a sparse matrix to save memory and improve speed\\n        M[0,1] = 2.0\\n        M[-1,-2] = 2.0\\n        return M\\nkappa = 0.001\\n\\n\\nc_EE = EE(x, t, kappa)\\nc_CN = CN(x, t, kappa)\\n\\nplt.figure(figsize=(8, 5))\\nplt.plot(x, set_ics(x, kappa, 10), label='Exact Solution')\\nplt.plot(x, c_EE[:,-1], label='Explicit Euler')\\nplt.plot(x, c_CN[:,-1], label='Crank-Nicolson')\\nplt.legend()\\n\\nplt.xlabel(r'$x$')\\nplt.ylabel(r'$c$')\\nplt.title(r'Difference from Exact Solution at $t=10$')\\n\\nplt.show()\""
            ],
            "application/vnd.google.colaboratory.intrinsic+json": {
              "type": "string"
            }
          },
          "metadata": {},
          "execution_count": 18
        }
      ]
    },
    {
      "cell_type": "code",
      "execution_count": 24,
      "metadata": {
        "id": "zRV2oWgA5wOT",
        "colab": {
          "base_uri": "https://localhost:8080/",
          "height": 554
        },
        "outputId": "573daaf4-74f7-4299-c3d7-361f254ec1ca"
      },
      "outputs": [
        {
          "output_type": "stream",
          "name": "stderr",
          "text": [
            "/usr/local/lib/python3.12/dist-packages/scipy/sparse/linalg/_dsolve/linsolve.py:606: SparseEfficiencyWarning: splu converted its input to CSC format\n",
            "  return splu(A).solve\n",
            "/usr/local/lib/python3.12/dist-packages/scipy/sparse/linalg/_matfuncs.py:76: SparseEfficiencyWarning: spsolve is more efficient when sparse b is in the CSC matrix format\n",
            "  Ainv = spsolve(A, I)\n"
          ]
        },
        {
          "output_type": "display_data",
          "data": {
            "text/plain": [
              "<Figure size 1000x500 with 0 Axes>"
            ]
          },
          "metadata": {}
        },
        {
          "output_type": "display_data",
          "data": {
            "text/plain": [
              "<Figure size 640x480 with 2 Axes>"
            ],
            "image/png": "[encoded data removed]"
          },
          "metadata": {}
        }
      ],
      "source": [
        "\"\"\"limit = 2\n",
        "Nt_values_raw = np.linspace(0, 100, 500)\n",
        "Nt_values = [int(nt) for nt in Nt_values_raw if int(nt) >= 2] # Convert to integers and discard values less than 2\n",
        "\n",
        "ee_Nt_values = []\n",
        "ee_results = []\n",
        "ee_execution_times = []\n",
        "\n",
        "for Nt in Nt_values:\n",
        "    t = np.linspace(t_start, t_end, Nt)\n",
        "\n",
        "    start_time_ee = time.time()\n",
        "    c_ee = EE(x, t, kappa)\n",
        "\n",
        "    end_time_ee = time.time()\n",
        "    ics_test = set_ics(x, kappa, t[-1])\n",
        "\n",
        "    ee_Nt_values.append(Nt)\n",
        "    ee_results.append(c_ee)\n",
        "    ee_execution_times.append(end_time_ee - start_time_ee)\n",
        "\n",
        "cn_Nt_values = []\n",
        "cn_results = []\n",
        "cn_execution_times = []\n",
        "\n",
        "for Nt in Nt_values:\n",
        "    t = np.linspace(t_start, t_end, Nt)\n",
        "\n",
        "    start_time_cn = time.time()\n",
        "    c_cn = EE(x, t, kappa)\n",
        "    end_time_cn = time.time()\n",
        "\n",
        "    cn_Nt_values.append(Nt)\n",
        "    cn_results.append(c_cn)\n",
        "    cn_execution_times.append(end_time_cn - start_time_cn)\n",
        "\n",
        "plt.figure(figsize=(7, 3))\n",
        "\n",
        "plt.scatter(ee_Nt_values, ee_execution_times, s=10, color='blue', label='Explicit Euler')\n",
        "plt.scatter(cn_Nt_values, cn_execution_times, s=10, color='red', label='Crank-Nicolson')\n",
        "plt.legend()\n",
        "plt.xlabel('Nt values')\n",
        "plt.ylabel('Execution times (s)')\n",
        "plt.title('Comparing the Explicit Euler and Crank-Nicolson methods on their execution times for a range of time-steps')\n",
        "plt.legend()\n",
        "\n",
        "plt.show()\n",
        "\n",
        "\n",
        "\n",
        "\n",
        "\n",
        "\n",
        "\n",
        "\n",
        "kappa = 0.01\n",
        "t0 = 0.001\n",
        "tf = 0.1\n",
        "divisions = 100\n",
        "EE_error = np.zeros(divisions-1)\n",
        "timearray = np.zeros((divisions-1),dtype = 'object')\n",
        "timestepval = np.zeros(divisions-1)\n",
        "\n",
        "for a in range(2,divisions-1):\n",
        "\n",
        "    timearray[a] = np.linspace(t0,tf,a)\n",
        "    EE_error[a] =  set_ics(x,kappa,10)[50] - EE(x,timearray[a],kappa)[50,-1]\n",
        "    timestepval[a] = timearray[a][1]-timearray[a][0]\n",
        "print(timearray)\n",
        "\"\"\"\n",
        "\n",
        "\n",
        "\n",
        "\n",
        "kappa = 0.001\n",
        "\n",
        "dtinit = 0.01\n",
        "dtfinal = 1\n",
        "dtinc = 0.0001\n",
        "\n",
        "\n",
        "#dtarray = np.arange(dtinit,dtfinal,dtinc)\n",
        "\n",
        "loc = int(np.floor(Nx/2))\n",
        "\n",
        "numtimesteps = np.arange(100,1000,10)\n",
        "dts = np.zeros(len(numtimesteps))\n",
        "EE_error = np.zeros(len(numtimesteps))\n",
        "CN_error = np.zeros(len(numtimesteps))\n",
        "\n",
        "for i, N in enumerate(numtimesteps):\n",
        "  timearray = np.linspace(t_start,t_end,N)\n",
        "  dts[i] = timearray[1]-timearray[0]\n",
        "  EE_error[i] = np.abs(set_ics(x,kappa,t_end)[loc] - EE(x,timearray,kappa)[loc,-1])\n",
        "  CN_error[i] = np.abs(set_ics(x,kappa,t_end)[loc] - CN(x,timearray,kappa)[loc,-1])\n",
        "\n",
        "plt.figure(figsize=(10,5))\n",
        "ax, fig = plt.subplots(1,2)\n",
        "ax1 = plt.subplot(1,2,1)\n",
        "ax2 = plt.subplot(1,2,2)\n",
        "ax1.plot(dts, EE_error, label='EE')\n",
        "ax2.plot(dts, CN_error, label='CN')\n",
        "plt.legend()\n",
        "plt.show()\n",
        "\n",
        "\n"
      ]
    },
    {
      "cell_type": "markdown",
      "metadata": {
        "id": "FIR52qFV5wOT"
      },
      "source": [
        "Finally, select a given error tolerance and explore whether explicit Euler or Crank-Nicoslon is more efficient (faster) at generating solutions with error less than your error tolerance. Discuss your conclusion and add supporting figures if necessary."
      ]
    },
    {
      "cell_type": "markdown",
      "metadata": {
        "id": "yGbdjcEg5wOT"
      },
      "source": [
        "INSERT DISCUSSION OF ERROR HERE (~1 paragraph).  OPTIONALLY ADD PLOTS BY INSERTING A CODE BLOCK BELOW."
      ]
    },
    {
      "cell_type": "markdown",
      "metadata": {
        "id": "mLdwDZ_HVA6G"
      },
      "source": [
        "### 2.3 Boundary conditions for Crank-Nicolson scheme\n",
        "<a id='section2pt3'></a>\n",
        "\n",
        "The application of the boundary conditions for the Crank-Nicolson method isn't quite right in the script above (but the boundary conditions aren't very important in this example). Account for the boundary conditions by modifying the coefficient matrix. This should ensure that the boundary conditions are applied to the implicit and explicit terms involved in the Crank-Nicolson update. Plot your results below and verify that the boundary conditions are satisfied.  How would you handle fixed value (Dirichlet) and fixed gradient (Neumann) boundary conditions?"
      ]
    },
    {
      "cell_type": "code",
      "execution_count": null,
      "metadata": {
        "id": "LK7I3NIdIAZS"
      },
      "outputs": [],
      "source": [
        "\n",
        "\n"
      ]
    },
    {
      "cell_type": "markdown",
      "metadata": {
        "id": "vHKZigwrIAZS"
      },
      "source": [
        "For fixed value (Dirichlet), we would approach this by enforcing a set of boundaries at each loop of the update within the EE and CN functions. This would look like setting c[0,k] = c_left and c[-1,k] = c_right instead of the current setting, which is just the next value along.\n",
        "\n",
        "For fixed gradients (Von Neumann), it is a little trickier. The derivatives are encoded in M, so we must change some of its entries."
      ]
    },
    {
      "cell_type": "code",
      "source": [],
      "metadata": {
        "id": "kT8oKxjFBl75"
      },
      "execution_count": null,
      "outputs": []
    }
  ],
  "metadata": {
    "colab": {
      "provenance": []
    },
    "kernelspec": {
      "display_name": "dedalus3",
      "language": "python",
      "name": "python3"
    },
    "language_info": {
      "codemirror_mode": {
        "name": "ipython",
        "version": 3
      },
      "file_extension": ".py",
      "mimetype": "text/x-python",
      "name": "python",
      "nbconvert_exporter": "python",
      "pygments_lexer": "ipython3",
      "version": "3.12.2"
    }
  },
  "nbformat": 4,
  "nbformat_minor": 0
}